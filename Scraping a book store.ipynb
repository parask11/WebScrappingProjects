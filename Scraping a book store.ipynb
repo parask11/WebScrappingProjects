{
 "cells": [
  {
   "cell_type": "code",
   "execution_count": 107,
   "metadata": {},
   "outputs": [],
   "source": [
    "import json\n",
    "from bs4 import BeautifulSoup as soup\n",
    "import csv\n",
    "import requests\n",
    "from urllib.request import urlopen\n",
    "import pandas as pd"
   ]
  },
  {
   "cell_type": "code",
   "execution_count": 108,
   "metadata": {},
   "outputs": [],
   "source": [
    "with open(\"book.csv\",\"w\") as f:\n",
    "    f.write(\"image_url,book_title,product_price\\n\")"
   ]
  },
  {
   "cell_type": "code",
   "execution_count": 109,
   "metadata": {},
   "outputs": [],
   "source": [
    "names = []\n",
    "sites = []\n",
    "rates = []\n",
    "for i in range(1,51):\n",
    "    url = \"http://books.toscrape.com/catalogue/page-{}.html\".format(i)\n",
    "    data = urlopen(url)\n",
    "    #print(data)\n",
    "    dhtml = data.read()\n",
    "    #print(dhtml)\n",
    "    dsoup = soup(dhtml,'html.parser')\n",
    "    data.close()\n",
    "    #print(dsoup)\n",
    "    name = \"\"\n",
    "    ur = \"\"\n",
    "    p = \"\"\n",
    "    products = dsoup.findAll('li',{})\n",
    "    for product in products:\n",
    "        image = product.findAll('div',{\"class\":\"image_container\"})\n",
    "        for im in image:\n",
    "            a = im.findAll('a',{})\n",
    "            for i in a:\n",
    "                p = i.findAll('img',{})\n",
    "                name = p[0]['alt'].replace(',','')\n",
    "                ur = p[0]['src'].replace(',','')\n",
    "                names.append(name)\n",
    "                sites.append(ur)\n",
    "                #print(ur,end=\",\")\n",
    "                #print(name,end=\",\")\n",
    "               # with open(\"book.csv\",'a') as f:\n",
    "                #    w = ur + ',' + name + ','\n",
    "                 #   f.write(w)\n",
    "        prices = product.findAll('div',{\"class\":\"product_price\"})\n",
    "        for price in prices:\n",
    "            pric = price.findAll('p',{\"class\":\"price_color\"})\n",
    "            p = pric[0].text.replace(',','')\n",
    "            rates.append(p)\n",
    "            #print(p)\n",
    "            #with open(\"book.csv\",'a') as f:\n",
    "                    #w = p\n",
    "             #       f.write(w)\n",
    "        #print(ur.strip(),',',name.strip(),',',p.strip())"
   ]
  },
  {
   "cell_type": "code",
   "execution_count": 110,
   "metadata": {},
   "outputs": [],
   "source": [
    "df = pd.DataFrame({'image_url':sites,\"book_titles\":names,\"product_price\":rates})"
   ]
  },
  {
   "cell_type": "code",
   "execution_count": 111,
   "metadata": {},
   "outputs": [],
   "source": [
    "df.to_csv(\"books.csv\",index = False)"
   ]
  },
  {
   "cell_type": "code",
   "execution_count": null,
   "metadata": {},
   "outputs": [],
   "source": []
  }
 ],
 "metadata": {
  "kernelspec": {
   "display_name": "Python 3",
   "language": "python",
   "name": "python3"
  },
  "language_info": {
   "codemirror_mode": {
    "name": "ipython",
    "version": 3
   },
   "file_extension": ".py",
   "mimetype": "text/x-python",
   "name": "python",
   "nbconvert_exporter": "python",
   "pygments_lexer": "ipython3",
   "version": "3.7.4"
  }
 },
 "nbformat": 4,
 "nbformat_minor": 2
}
